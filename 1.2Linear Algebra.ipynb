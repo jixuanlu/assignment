{
  "nbformat": 4,
  "nbformat_minor": 0,
  "metadata": {
    "colab": {
      "name": "Untitled0.ipynb",
      "provenance": [],
      "collapsed_sections": [],
      "authorship_tag": "ABX9TyNRBAs9yXkgDffL2BmsFe1F",
      "include_colab_link": true
    },
    "kernelspec": {
      "name": "python3",
      "display_name": "Python 3"
    },
    "language_info": {
      "name": "python"
    }
  },
  "cells": [
    {
      "cell_type": "markdown",
      "metadata": {
        "id": "view-in-github",
        "colab_type": "text"
      },
      "source": [
        "<a href=\"https://colab.research.google.com/github/jixuanlu/assignment/blob/master/1.2Linear%20Algebra.ipynb\" target=\"_parent\"><img src=\"https://colab.research.google.com/assets/colab-badge.svg\" alt=\"Open In Colab\"/></a>"
      ]
    },
    {
      "cell_type": "markdown",
      "metadata": {
        "id": "yXUsQ2tV-K_i"
      },
      "source": [
        "Chapter 1. Linear Algebra"
      ]
    },
    {
      "cell_type": "code",
      "metadata": {
        "colab": {
          "base_uri": "https://localhost:8080/"
        },
        "id": "236xES-m-mOJ",
        "outputId": "c2907427-e967-49fa-f955-20f4b3a65890"
      },
      "source": [
        "import numpy as np\n",
        "a = np.arange(10)\n",
        "print(a)"
      ],
      "execution_count": null,
      "outputs": [
        {
          "output_type": "stream",
          "text": [
            "[0 1 2 3 4 5 6 7 8 9]\n"
          ],
          "name": "stdout"
        }
      ]
    },
    {
      "cell_type": "code",
      "metadata": {
        "colab": {
          "base_uri": "https://localhost:8080/"
        },
        "id": "VCA-goTjAHYs",
        "outputId": "8d9feae9-26fd-4c48-c1d9-c4d746d075e0"
      },
      "source": [
        "# creat specific array\n",
        "a = np.zeros(10)\n",
        "b = np.ones(10)\n",
        "c = np.zeros(10) + 5\n",
        "print(a)\n",
        "print(b)\n",
        "print(c)"
      ],
      "execution_count": null,
      "outputs": [
        {
          "output_type": "stream",
          "text": [
            "[0. 0. 0. 0. 0. 0. 0. 0. 0. 0.]\n",
            "[1. 1. 1. 1. 1. 1. 1. 1. 1. 1.]\n",
            "[5. 5. 5. 5. 5. 5. 5. 5. 5. 5.]\n"
          ],
          "name": "stdout"
        }
      ]
    },
    {
      "cell_type": "code",
      "metadata": {
        "colab": {
          "base_uri": "https://localhost:8080/"
        },
        "id": "HqbsXPBiAHsH",
        "outputId": "59a34a76-498a-403a-fb05-63c2c1c1d79b"
      },
      "source": [
        "# use random numbers to populate an array\n",
        "a = np.random.rand(10)\n",
        "print(a)"
      ],
      "execution_count": null,
      "outputs": [
        {
          "output_type": "stream",
          "text": [
            "[0.03972459 0.75215587 0.47380604 0.46069809 0.11795019 0.27968509\n",
            " 0.45134362 0.38147243 0.34381003 0.50316647]\n"
          ],
          "name": "stdout"
        }
      ]
    },
    {
      "cell_type": "code",
      "metadata": {
        "colab": {
          "base_uri": "https://localhost:8080/"
        },
        "id": "IMJ518ndAH1i",
        "outputId": "4748fe46-e8c3-49c8-9949-f912d4343066"
      },
      "source": [
        "\n",
        "# print index of the array\n",
        "a = np.arange(10)\n",
        "print(a)\n",
        "print(a[-1])\n",
        "print(a[1:3])\n",
        "print(a[1:5:2])"
      ],
      "execution_count": null,
      "outputs": [
        {
          "output_type": "stream",
          "text": [
            "[0 1 2 3 4 5 6 7 8 9]\n",
            "9\n",
            "[1 2]\n",
            "[1 3]\n"
          ],
          "name": "stdout"
        }
      ]
    },
    {
      "cell_type": "markdown",
      "metadata": {
        "id": "H3j2Vk4a_Bq1"
      },
      "source": [
        "  1.2 Elements of Linear Algebra"
      ]
    },
    {
      "cell_type": "markdown",
      "metadata": {
        "id": "tcljm6ycZEBm"
      },
      "source": [
        "Basic operation of matrix"
      ]
    },
    {
      "cell_type": "code",
      "metadata": {
        "colab": {
          "base_uri": "https://localhost:8080/"
        },
        "id": "ACvV2skQ_t-n",
        "outputId": "dbdfb3f4-36fb-441d-ec27-da5403c00a3e"
      },
      "source": [
        "a = np.zeros((3, 5))\n",
        "# note the extra bracket you need for calling np.zeros\n",
        "print(a, '\\n')\n",
        "\n",
        "# shape of the array\n",
        "print('len =',len(a))\n",
        "print('shape =',a.shape)"
      ],
      "execution_count": null,
      "outputs": [
        {
          "output_type": "stream",
          "text": [
            "[[0. 0. 0. 0. 0.]\n",
            " [0. 0. 0. 0. 0.]\n",
            " [0. 0. 0. 0. 0.]] \n",
            "\n",
            "len = 3\n",
            "shape = (3, 5)\n"
          ],
          "name": "stdout"
        }
      ]
    },
    {
      "cell_type": "code",
      "metadata": {
        "colab": {
          "base_uri": "https://localhost:8080/"
        },
        "id": "cwINt6YbR-wX",
        "outputId": "41debecc-2dcb-4b84-e9e6-8d42cc57de88"
      },
      "source": [
        "# pick two output valuables from a method\n",
        "a = np.zeros((3,5))\n",
        "nx,ny = a.shape\n",
        "print('nx =', nx)\n",
        "print('ny =', ny)"
      ],
      "execution_count": null,
      "outputs": [
        {
          "output_type": "stream",
          "text": [
            "nx = 3\n",
            "ny = 5\n"
          ],
          "name": "stdout"
        }
      ]
    },
    {
      "cell_type": "code",
      "metadata": {
        "colab": {
          "base_uri": "https://localhost:8080/"
        },
        "id": "Lav_cAsdSCAc",
        "outputId": "ca7d5fca-8347-490f-9b4b-ea241138634f"
      },
      "source": [
        "# ways to generate a constant array\n",
        "\n",
        "a = np.zeros((3,5)) + 7\n",
        "print(a, '\\n')\n",
        "\n",
        "b = np.ones((3,5)) * 7\n",
        "print(b, '\\n')\n",
        "\n",
        "c = np.full((3,5), 7)\n",
        "print(c)"
      ],
      "execution_count": null,
      "outputs": [
        {
          "output_type": "stream",
          "text": [
            "[[7. 7. 7. 7. 7.]\n",
            " [7. 7. 7. 7. 7.]\n",
            " [7. 7. 7. 7. 7.]] \n",
            "\n",
            "[[7. 7. 7. 7. 7.]\n",
            " [7. 7. 7. 7. 7.]\n",
            " [7. 7. 7. 7. 7.]] \n",
            "\n",
            "[[7 7 7 7 7]\n",
            " [7 7 7 7 7]\n",
            " [7 7 7 7 7]]\n"
          ],
          "name": "stdout"
        }
      ]
    },
    {
      "cell_type": "code",
      "metadata": {
        "colab": {
          "base_uri": "https://localhost:8080/"
        },
        "id": "R5IssXaSSEEv",
        "outputId": "d84c426e-8606-42fb-d95c-596449ba06f0"
      },
      "source": [
        "# identity matrix function eye()\n",
        "a = np.eye(5)\n",
        "print(a)"
      ],
      "execution_count": null,
      "outputs": [
        {
          "output_type": "stream",
          "text": [
            "[[1. 0. 0. 0. 0.]\n",
            " [0. 1. 0. 0. 0.]\n",
            " [0. 0. 1. 0. 0.]\n",
            " [0. 0. 0. 1. 0.]\n",
            " [0. 0. 0. 0. 1.]]\n"
          ],
          "name": "stdout"
        }
      ]
    },
    {
      "cell_type": "code",
      "metadata": {
        "colab": {
          "base_uri": "https://localhost:8080/"
        },
        "id": "IS7s24CwSF9O",
        "outputId": "9de68adc-4aea-4990-cc2c-1b8a19d3aeb3"
      },
      "source": [
        "# index\n",
        "a = np.array(([1,2], [3,4], [5,6]))\n",
        "print(a)"
      ],
      "execution_count": null,
      "outputs": [
        {
          "output_type": "stream",
          "text": [
            "[[1 2]\n",
            " [3 4]\n",
            " [5 6]]\n"
          ],
          "name": "stdout"
        }
      ]
    },
    {
      "cell_type": "code",
      "metadata": {
        "colab": {
          "base_uri": "https://localhost:8080/"
        },
        "id": "hOAMDOHSSHv9",
        "outputId": "c8fca842-50f5-4eb7-c9d6-ff38f59c953f"
      },
      "source": [
        "# slice index\n",
        "a = np.array([[1,2,3,4], [5,6,7,8], [9,10,11,12]])\n",
        "print(a)\n",
        "b = a[:2, 1:3]\n",
        "print(b)"
      ],
      "execution_count": null,
      "outputs": [
        {
          "output_type": "stream",
          "text": [
            "[[ 1  2  3  4]\n",
            " [ 5  6  7  8]\n",
            " [ 9 10 11 12]]\n",
            "[[2 3]\n",
            " [6 7]]\n"
          ],
          "name": "stdout"
        }
      ]
    },
    {
      "cell_type": "code",
      "metadata": {
        "colab": {
          "base_uri": "https://localhost:8080/"
        },
        "id": "QYumS3FQSJiF",
        "outputId": "2ab8b4c6-f0cc-46d9-c542-eaf8d1acaabd"
      },
      "source": [
        "# mix integer and slice index\n",
        "a = np.array([[1,2,3,4], [5,6,7,8], [9,10,11,12]])\n",
        "print(a)\n",
        "b = a[1, :]\n",
        "print(b)"
      ],
      "execution_count": null,
      "outputs": [
        {
          "output_type": "stream",
          "text": [
            "[[ 1  2  3  4]\n",
            " [ 5  6  7  8]\n",
            " [ 9 10 11 12]]\n",
            "[5 6 7 8]\n"
          ],
          "name": "stdout"
        }
      ]
    },
    {
      "cell_type": "code",
      "metadata": {
        "colab": {
          "base_uri": "https://localhost:8080/"
        },
        "id": "jyYJh5FSSLSg",
        "outputId": "5db939ec-470e-4a41-c1db-3aac686e79c1"
      },
      "source": [
        "# use two list as index\n",
        "a = np.array([[1,2,3,4], [5,6,7,8], [9,10,11,12]])\n",
        "print(a, '\\n')\n",
        "print(a[[0,1,2],[2,1,2]])"
      ],
      "execution_count": null,
      "outputs": [
        {
          "output_type": "stream",
          "text": [
            "[[ 1  2  3  4]\n",
            " [ 5  6  7  8]\n",
            " [ 9 10 11 12]] \n",
            "\n",
            "[ 3  6 11]\n"
          ],
          "name": "stdout"
        }
      ]
    },
    {
      "cell_type": "code",
      "metadata": {
        "colab": {
          "base_uri": "https://localhost:8080/"
        },
        "id": "kZodef07SNho",
        "outputId": "56a278fb-1882-420a-fbeb-d3e1920f2b94"
      },
      "source": [
        "# update values\n",
        "a = np.zeros((3,3))\n",
        "for i in range(3):\n",
        "    a[:,i] = i\n",
        "print('before\\n',a)\n",
        "\n",
        "a[1,:] += 10\n",
        "print('after\\n',a)"
      ],
      "execution_count": null,
      "outputs": [
        {
          "output_type": "stream",
          "text": [
            "before\n",
            " [[0. 1. 2.]\n",
            " [0. 1. 2.]\n",
            " [0. 1. 2.]]\n",
            "after\n",
            " [[ 0.  1.  2.]\n",
            " [10. 11. 12.]\n",
            " [ 0.  1.  2.]]\n"
          ],
          "name": "stdout"
        }
      ]
    },
    {
      "cell_type": "code",
      "metadata": {
        "colab": {
          "base_uri": "https://localhost:8080/"
        },
        "id": "9UzdNtAFSPSH",
        "outputId": "7cc88d4d-8850-45eb-b299-600887a360c2"
      },
      "source": [
        "a = np.zeros((3,3))\n",
        "for i in range(3):\n",
        "    a[:,i] = i\n",
        "print('before\\n',a)\n",
        "\n",
        "a[:,2] = 5.\n",
        "print('after\\n',a)"
      ],
      "execution_count": null,
      "outputs": [
        {
          "output_type": "stream",
          "text": [
            "before\n",
            " [[0. 1. 2.]\n",
            " [0. 1. 2.]\n",
            " [0. 1. 2.]]\n",
            "after\n",
            " [[0. 1. 5.]\n",
            " [0. 1. 5.]\n",
            " [0. 1. 5.]]\n"
          ],
          "name": "stdout"
        }
      ]
    },
    {
      "cell_type": "code",
      "metadata": {
        "colab": {
          "base_uri": "https://localhost:8080/"
        },
        "id": "bZJdeJsOSQ-I",
        "outputId": "dcb9a8df-376f-4f73-933c-f169c4ad290b"
      },
      "source": [
        "# type of data in the array\n",
        "a=np.array(([1,1],[1,1]))\n",
        "print(a)\n",
        "print(a.dtype)"
      ],
      "execution_count": null,
      "outputs": [
        {
          "output_type": "stream",
          "text": [
            "[[1 1]\n",
            " [1 1]]\n",
            "int64\n"
          ],
          "name": "stdout"
        }
      ]
    },
    {
      "cell_type": "code",
      "metadata": {
        "colab": {
          "base_uri": "https://localhost:8080/"
        },
        "id": "tpOqTAOxSSn7",
        "outputId": "490a6548-68f7-4020-ff53-9f8138997c84"
      },
      "source": [
        "a=np.array(([1.,1],[1,1]))\n",
        "print(a)\n",
        "print(a.dtype)"
      ],
      "execution_count": null,
      "outputs": [
        {
          "output_type": "stream",
          "text": [
            "[[1. 1.]\n",
            " [1. 1.]]\n",
            "float64\n"
          ],
          "name": "stdout"
        }
      ]
    },
    {
      "cell_type": "code",
      "metadata": {
        "colab": {
          "base_uri": "https://localhost:8080/"
        },
        "id": "MLt-TjrCSUUd",
        "outputId": "deac605c-df16-4f2f-e190-644f1721c04d"
      },
      "source": [
        "\n",
        "a=np.array(([1.,1],[1,1]))>2\n",
        "print(a)\n",
        "print(a.dtype)"
      ],
      "execution_count": null,
      "outputs": [
        {
          "output_type": "stream",
          "text": [
            "[[False False]\n",
            " [False False]]\n",
            "bool\n"
          ],
          "name": "stdout"
        }
      ]
    },
    {
      "cell_type": "code",
      "metadata": {
        "colab": {
          "base_uri": "https://localhost:8080/"
        },
        "id": "p-v9ncgJSXGp",
        "outputId": "83678f96-0943-434a-80f2-cc42cd987cfe"
      },
      "source": [
        "a=np.array((['1','1'],['1','1']))\n",
        "print(a)\n",
        "print(a.dtype)"
      ],
      "execution_count": null,
      "outputs": [
        {
          "output_type": "stream",
          "text": [
            "[['1' '1']\n",
            " ['1' '1']]\n",
            "<U1\n"
          ],
          "name": "stdout"
        }
      ]
    },
    {
      "cell_type": "code",
      "metadata": {
        "colab": {
          "base_uri": "https://localhost:8080/"
        },
        "id": "GSq9yAwHSYs8",
        "outputId": "1ac07554-3317-42d6-a01e-e640df151c73"
      },
      "source": [
        "a=np.array((['1','1'],['1','1']),dtype=float)\n",
        "print(a)\n",
        "print(a.dtype)"
      ],
      "execution_count": null,
      "outputs": [
        {
          "output_type": "stream",
          "text": [
            "[[1. 1.]\n",
            " [1. 1.]]\n",
            "float64\n"
          ],
          "name": "stdout"
        }
      ]
    },
    {
      "cell_type": "code",
      "metadata": {
        "id": "0cUTdmSaK1k5"
      },
      "source": [
        "\n",
        "a = np.zeros((3, 5))\n",
        "# note the extra bracket you need for calling np.zeros\n",
        "print(a, '\\n')\n",
        "\n",
        "# shape of the array\n",
        "print('len =',len(a))\n",
        "print('shape =',a.shape)"
      ],
      "execution_count": null,
      "outputs": []
    },
    {
      "cell_type": "code",
      "metadata": {
        "id": "8TT3zZxOK2aL"
      },
      "source": [
        "\n",
        "# pick two output valuables from a method\n",
        "a = np.zeros((3,5))\n",
        "nx,ny = a.shape\n",
        "print('nx =', nx)\n",
        "print('ny =', ny)"
      ],
      "execution_count": null,
      "outputs": []
    },
    {
      "cell_type": "code",
      "metadata": {
        "id": "pt7QmxO7K4hV"
      },
      "source": [
        "# ways to generate a constant array\n",
        "\n",
        "a = np.zeros((3,5)) + 7\n",
        "print(a, '\\n')\n",
        "\n",
        "b = np.ones((3,5)) * 7\n",
        "print(b, '\\n')\n",
        "\n",
        "c = np.full((3,5), 7)\n",
        "print(c)"
      ],
      "execution_count": null,
      "outputs": []
    },
    {
      "cell_type": "code",
      "metadata": {
        "colab": {
          "base_uri": "https://localhost:8080/"
        },
        "id": "uNXVNUTUK6yf",
        "outputId": "63119670-2214-47a3-b995-433699100a75"
      },
      "source": [
        "\n",
        "# identity matrix function eye()\n",
        "a = np.eye(5)\n",
        "print(a)"
      ],
      "execution_count": null,
      "outputs": [
        {
          "output_type": "stream",
          "text": [
            "[[1. 0. 0. 0. 0.]\n",
            " [0. 1. 0. 0. 0.]\n",
            " [0. 0. 1. 0. 0.]\n",
            " [0. 0. 0. 1. 0.]\n",
            " [0. 0. 0. 0. 1.]]\n"
          ],
          "name": "stdout"
        }
      ]
    },
    {
      "cell_type": "code",
      "metadata": {
        "id": "67Iigy1QK-HR"
      },
      "source": [
        "# index\n",
        "a = np.array(([1,2], [3,4], [5,6]))\n",
        "print(a)"
      ],
      "execution_count": null,
      "outputs": []
    },
    {
      "cell_type": "code",
      "metadata": {
        "id": "Y0iMp1M3K_-S"
      },
      "source": [
        "# slice index\n",
        "a = np.array([[1,2,3,4], [5,6,7,8], [9,10,11,12]])\n",
        "print(a)\n",
        "b = a[:2, 1:3]\n",
        "print(b)"
      ],
      "execution_count": null,
      "outputs": []
    },
    {
      "cell_type": "code",
      "metadata": {
        "id": "g7v1JxcQLBfs"
      },
      "source": [
        "# mix integer and slice index\n",
        "a = np.array([[1,2,3,4], [5,6,7,8], [9,10,11,12]])\n",
        "print(a)\n",
        "b = a[1, :]\n",
        "print(b)"
      ],
      "execution_count": null,
      "outputs": []
    },
    {
      "cell_type": "code",
      "metadata": {
        "id": "IJ9VJfs5LEmU"
      },
      "source": [
        "# use two list as index\n",
        "a = np.array([[1,2,3,4], [5,6,7,8], [9,10,11,12]])\n",
        "print(a, '\\n')\n",
        "print(a[[0,1,2],[2,1,2]])"
      ],
      "execution_count": null,
      "outputs": []
    },
    {
      "cell_type": "code",
      "metadata": {
        "id": "UBpUlRkQLGlM"
      },
      "source": [
        "# update values\n",
        "a = np.zeros((3,3))\n",
        "for i in range(3):\n",
        "    a[:,i] = i\n",
        "print('before\\n',a)\n",
        "\n",
        "a[1,:] += 10\n",
        "print('after\\n',a)"
      ],
      "execution_count": null,
      "outputs": []
    },
    {
      "cell_type": "code",
      "metadata": {
        "id": "l2fhHFzHLI_Y"
      },
      "source": [
        "a = np.zeros((3,3))\n",
        "for i in range(3):\n",
        "    a[:,i] = i\n",
        "print('before\\n',a)\n",
        "\n",
        "a[:,2] = 5.\n",
        "print('after\\n',a)"
      ],
      "execution_count": null,
      "outputs": []
    },
    {
      "cell_type": "code",
      "metadata": {
        "id": "vq9A5u04LLWt"
      },
      "source": [
        "# type of data in the array\n",
        "a=np.array(([1,1],[1,1]))\n",
        "print(a)\n",
        "print(a.dtype)"
      ],
      "execution_count": null,
      "outputs": []
    },
    {
      "cell_type": "code",
      "metadata": {
        "id": "RX2xjwpQLNWR"
      },
      "source": [
        "a=np.array(([1.,1],[1,1]))\n",
        "print(a)\n",
        "print(a.dtype)"
      ],
      "execution_count": null,
      "outputs": []
    },
    {
      "cell_type": "code",
      "metadata": {
        "id": "liCT8F1eLO1V"
      },
      "source": [
        "\n",
        "a=np.array(([1.,1],[1,1]))>2\n",
        "print(a)\n",
        "print(a.dtype)"
      ],
      "execution_count": null,
      "outputs": []
    },
    {
      "cell_type": "code",
      "metadata": {
        "id": "lziqepZILQek"
      },
      "source": [
        "a=np.array((['1','1'],['1','1']))\n",
        "print(a)\n",
        "print(a.dtype)"
      ],
      "execution_count": null,
      "outputs": []
    },
    {
      "cell_type": "code",
      "metadata": {
        "id": "o9tIwpFxLSIN"
      },
      "source": [
        "a=np.array((['1','1'],['1','1']),dtype=float)\n",
        "print(a)\n",
        "print(a.dtype)"
      ],
      "execution_count": null,
      "outputs": []
    },
    {
      "cell_type": "code",
      "metadata": {
        "id": "PStqis_XLUtS"
      },
      "source": [
        "\n",
        "# most numpy functions can be applied directly to an array\n",
        "a = np.zeros((3,3))\n",
        "for i in range(3):\n",
        "    a[:,i] = i\n",
        "print(a)\n",
        "print(a >= 1)\n",
        "print(np.sqrt(a))"
      ],
      "execution_count": null,
      "outputs": []
    },
    {
      "cell_type": "code",
      "metadata": {
        "id": "fT-clljoLWeE"
      },
      "source": [
        "# inversion\n",
        "A = np.matrix([[1,0,0],\n",
        "               [0,1,0],\n",
        "               [0,0,1]])\n",
        "\n",
        "B = np.matrix([[3,1],\n",
        "               [1,3]])\n",
        "\n",
        "print(A, '\\n')\n",
        "print(np.trace(A), '\\n')\n",
        "print(np.invert(A), '\\n')\n",
        "\n",
        "print(B, '\\n')\n",
        "print(np.trace(B), '\\n')\n",
        "print(np.invert(B))"
      ],
      "execution_count": null,
      "outputs": []
    },
    {
      "cell_type": "code",
      "metadata": {
        "id": "i-tzYjhfLY4z"
      },
      "source": [
        "# numpy.linalg.eig(a)     Calculate the eigenvalues and eigenvectors of the square matrix.\n",
        "# numpy.linalg.eigvals(a) Calculate the eigenvalues of the square matrix.\n",
        "\n",
        "x = np.diag([1,2,3])\n",
        "print(np.linalg.eigvals(x))\n",
        "\n",
        "a, b = np.linalg.eig(x)\n",
        "print('eigenvalue：', a, '\\n')\n",
        "print('eigenvector：\\n', b, '\\n')\n",
        "\n",
        "\n",
        "# verify that the eigenvalues and eigenvectors are correct\n",
        "for i in range(3):       \n",
        "    if np.allclose(a[i] * b[:, i], np.dot(x, b[:, i])):\n",
        "        print('Correct')\n",
        "    else:\n",
        "        print('Wrong')"
      ],
      "execution_count": null,
      "outputs": []
    },
    {
      "cell_type": "code",
      "metadata": {
        "id": "n9k2ScdqLaxX"
      },
      "source": [
        "# two arrays\n",
        "a = np.zeros((3,3))\n",
        "b = np.zeros((3,3))\n",
        "for i in range(3):\n",
        "    a[:,i] = i\n",
        "    b[i,:] = i\n",
        "print('a=\\n', a)\n",
        "print('b=\\n', b)\n",
        "\n",
        "print('a+b=\\n', a + b)\n",
        "print('a*b=\\n', a * b)\n",
        "print('a/b=\\n', a / b) # notice the first row of the result"
      ],
      "execution_count": null,
      "outputs": []
    },
    {
      "cell_type": "code",
      "metadata": {
        "id": "-Z9K8MyXLcv_"
      },
      "source": [
        "# broadcasting\n",
        "# add the vector v to each row of the matrix x,\n",
        "# storing the result in the matrix y\n",
        "\n",
        "x = np.array([[1,2,3], [4,5,6], [7,8,9], [10, 11, 12]])\n",
        "v = np.array([2, 0, 1])\n",
        "y = x + v\n",
        "z = x * v\n",
        "print(y, '\\n')\n",
        "print(z)"
      ],
      "execution_count": null,
      "outputs": []
    },
    {
      "cell_type": "code",
      "metadata": {
        "id": "HogSxv-UL7EO"
      },
      "source": [
        "# dot product\n",
        "x = np.array([1,2,3,4,5])\n",
        "y = np.array([2,3,4,5,6])\n",
        "z = np.dot(x,y)  #  The dot product of two vectors\n",
        "print(z)\n",
        "\n",
        "x = np.array([[1,2,3],[3,4,5],[6,7,8]])\n",
        "y = np.array([[5,4,2],[1,7,9],[0,4,5]])\n",
        "z= np.dot(x,y)   #  matrix multiplication\n",
        "print(z)"
      ],
      "execution_count": null,
      "outputs": []
    },
    {
      "cell_type": "code",
      "metadata": {
        "id": "Ll5p2y1YL9f_"
      },
      "source": [
        "a = np.array([1,2])\n",
        "b = np.array([3,4]) \n",
        "c = np.array([[3],[4]])\n",
        "\n",
        "print(b*a) \n",
        "print(a*c)  #  A matrix multiplies its elements, so it satisfies the commutative law\n",
        "print(c*a)\n",
        "\n",
        "print(np.dot(a,b))    #  matrix multiplication\n",
        "print(np.dot(a,c))\n",
        "#print(np.dot(c,a)) There will be an error"
      ],
      "execution_count": null,
      "outputs": []
    },
    {
      "cell_type": "code",
      "metadata": {
        "id": "W-BPrdaeL_kD"
      },
      "source": [
        "# cross product\n",
        "a = [1,2,3]\n",
        "b = [2,3,4]\n",
        "\n",
        "c = np.cross(a,b)\n",
        "print(c)"
      ],
      "execution_count": null,
      "outputs": []
    },
    {
      "cell_type": "code",
      "metadata": {
        "id": "dL-1fGraMBlW"
      },
      "source": [
        "# matrix multiplication\n",
        "a = np.array([[1,2], [3,4]])\n",
        "b = np.array([[2,3], [4,5]])\n",
        "\n",
        "c = np.matmul(a,b)\n",
        "print(c)"
      ],
      "execution_count": null,
      "outputs": []
    },
    {
      "cell_type": "code",
      "metadata": {
        "id": "LouWj8e7MDoD"
      },
      "source": [
        "# transpose\n",
        "a = np.array(([1,2], [3,4],[ 5,6]))\n",
        "print('a=\\n',a)\n",
        "print('a.T=\\n',a.T)\n",
        "print('a.transpose()=\\n',a.transpose())"
      ],
      "execution_count": null,
      "outputs": []
    },
    {
      "cell_type": "code",
      "metadata": {
        "id": "uIf0h66sMFdt"
      },
      "source": [
        "# reshape\n",
        "a = np.array(([1,2], [3,4], [5,6]))\n",
        "print('a\\n', a)\n",
        "\n",
        "b = a.reshape((2,3))\n",
        "print('b\\n', b)\n",
        "\n",
        "c = a.flatten()\n",
        "print('c\\n', c)\n",
        "\n",
        "# C order, row order\n",
        "d = a.flatten(order = 'C')\n",
        "print('d\\n', d)\n",
        "\n",
        "# Fortran order, column order\n",
        "e = a.flatten(order = 'F')\n",
        "print('e\\n', e)"
      ],
      "execution_count": null,
      "outputs": []
    },
    {
      "cell_type": "code",
      "metadata": {
        "id": "Lzk5XuRyMHHC"
      },
      "source": [
        "# stacking\n",
        "a=np.full((3,2),1.)\n",
        "b=np.full((3,2),2.)\n",
        "c=np.full((3,2),3.)\n",
        "\n",
        "print('a=',a)\n",
        "print('b=',b)\n",
        "print('c=',c)\n",
        "\n",
        "print('hstack=',np.hstack((a,b,c)))\n",
        "print('vstack=',np.vstack((a,b,c)))"
      ],
      "execution_count": null,
      "outputs": []
    },
    {
      "cell_type": "code",
      "metadata": {
        "id": "LbPxNxljMJcL"
      },
      "source": [
        "\n",
        "# difference of python sum and numpy.sum\n",
        "\n",
        "data = np.arange(1000)\n",
        "\n",
        "%timeit sum(data)\n",
        "%timeit np.sum(data)"
      ],
      "execution_count": null,
      "outputs": []
    },
    {
      "cell_type": "code",
      "metadata": {
        "id": "K7LBxK7XMLWb"
      },
      "source": [
        "data = []\n",
        "for i in range(1000):\n",
        "    data.append(i)\n",
        "\n",
        "%timeit sum(data)\n",
        "%timeit np.sum(data)"
      ],
      "execution_count": null,
      "outputs": []
    },
    {
      "cell_type": "code",
      "metadata": {
        "id": "HIb1Yl3QMNJx"
      },
      "source": [
        "a = np.array([[8, -6, 2], [-4, 11, -7], [4, -7, 6]])\n",
        "b = np.array([[28], [-40], [33]])\n",
        "x = np.linalg.solve(a, b)\n",
        "print(a)\n",
        "print(x)"
      ],
      "execution_count": null,
      "outputs": []
    },
    {
      "cell_type": "code",
      "metadata": {
        "id": "3mK1MpQhMPwS"
      },
      "source": [
        "m = np.array([[1, -2, 1],[0, 2, -8],[-4, 5, 9]])\n",
        "v = np.array([0, 8, -9])\n",
        "r = np.linalg.solve(m, v)\n",
        "print('result：')\n",
        "name = ['X1', 'X2', 'X3']\n",
        "for i in range(len(name)):\n",
        "    print(name[i] + '=' + str(r[i]))"
      ],
      "execution_count": null,
      "outputs": []
    },
    {
      "cell_type": "code",
      "metadata": {
        "id": "eAeFS0U1MSOx"
      },
      "source": [
        "mat = np.vstack([[1,1,1],[1,-1,2],[2,0,3]])\n",
        "sol = np.vstack([3,2,1])\n",
        "try:\n",
        "    npl.solve(mat,sol)\n",
        "except:\n",
        "    print(np.hstack([mat,sol]))\n",
        "    print('Not solveable. Adding rows 1 and 2 contradicts row 3.')"
      ],
      "execution_count": null,
      "outputs": []
    },
    {
      "cell_type": "code",
      "metadata": {
        "id": "VBF4KCjfMVA2"
      },
      "source": [
        "# (whether all eigenvalues are positive)\n",
        "A = np.arange(16).reshape(4,4)\n",
        "print(A)\n",
        "\n",
        "A = A + A.T  # Convert square matrices to symmetric matrices\n",
        "print(A)\n",
        "\n",
        "B = np.linalg.eigvals(A)\n",
        "print(B)\n",
        "\n",
        "if np.all(B>0):\n",
        "    print('Yes')\n",
        "else:\n",
        "    print('No')\n"
      ],
      "execution_count": null,
      "outputs": []
    },
    {
      "cell_type": "code",
      "metadata": {
        "id": "slo3V6UiMXXw"
      },
      "source": [
        "#coding:utf8\n",
        "\n",
        "def gram_schmidt(A):\n",
        "    \"\"\"Gram-schmidt Orthogonalization\"\"\"\n",
        "    Q=np.zeros_like(A)\n",
        "    cnt = 0\n",
        "    for a in A.T:\n",
        "        u = np.copy(a)\n",
        "        for i in range(0, cnt):\n",
        "            u -= np.dot(np.dot(Q[:, i].T, a), Q[:, i]) \n",
        "        e = u / np.linalg.norm(u)  # normalization \n",
        "        Q[:, cnt] = e\n",
        "        cnt += 1\n",
        "    R = np.dot(Q.T, A)\n",
        "    return (Q, R)\n",
        "\n",
        "np.set_printoptions(precision=4, suppress=True)\n",
        "A = np.array([[6, 5, 0],[5, -1, 4],[5, 1, -14],[0, 4, 3]], dtype = float)\n",
        "\n",
        "(Q, R) = gram_schmidt(A)\n",
        "print(Q)\n",
        "print(R)\n",
        "print(np.dot(Q, R))"
      ],
      "execution_count": null,
      "outputs": []
    },
    {
      "cell_type": "code",
      "metadata": {
        "id": "VgQfx9MyMaay"
      },
      "source": [
        "def givens_rotation(A):\n",
        "    \"\"\"\"Givens Rotations\"\"\"\n",
        "    (r, c) = np.shape(A)\n",
        "    Q = np.identity(r)\n",
        "    R = np.copy(A)\n",
        "    (rows, cols) = np.tril_indices(r, -1, c)\n",
        "    for (row, col) in zip(rows, cols):\n",
        "        if R[row, col] != 0:  \n",
        "            r_ = np.hypot(R[col, col], R[row, col])  # d\n",
        "            c = R[col, col]/r_\n",
        "            s = -R[row, col]/r_\n",
        "            G = np.identity(r)\n",
        "            G[[col, row], [col, row]] = c\n",
        "            G[row, col] = s\n",
        "            G[col, row] = -s\n",
        "            R = np.dot(G, R)   # R=G(n-1,n)*...*G(2n)*...*G(23,1n)*...*G(12)*A\n",
        "            Q = np.dot(Q, G.T)  # Q=G(n-1,n).T*...*G(2n).T*...*G(23,1n).T*...*G(12).T\n",
        "    return (Q, R)\n",
        "\n",
        "np.set_printoptions(precision=4, suppress=True)\n",
        "A = np.array([[6, 5, 0],[5, -1, 4],[5, 1, -14],[0, 4, 3]], dtype = float)\n",
        "\n",
        "(Q, R) = givens_rotation(A)\n",
        "print(Q)\n",
        "print(R)\n",
        "print (np.dot(Q, R))"
      ],
      "execution_count": null,
      "outputs": []
    },
    {
      "cell_type": "code",
      "metadata": {
        "id": "j-p-oO84Mc-X"
      },
      "source": [
        "def householder_reflection(A):\n",
        "    \"\"\"Householder Triangularization\"\"\"\n",
        "    (r, c) = np.shape(A)\n",
        "    Q = np.identity(r)\n",
        "    R = np.copy(A)\n",
        "    for cnt in range(r - 1):\n",
        "        x = R[cnt:, cnt]\n",
        "        e = np.zeros_like(x)\n",
        "        e[0] = np.linalg.norm(x)\n",
        "        u = x - e\n",
        "        v = u / np.linalg.norm(u)\n",
        "        Q_cnt = np.identity(r)\n",
        "        Q_cnt[cnt:, cnt:] -= 2.0 * np.outer(v, v)\n",
        "        R = np.dot(Q_cnt, R)  # R=H(n-1)*...*H(2)*H(1)*A\n",
        "        Q = np.dot(Q, Q_cnt)  # Q=H(n-1)*...*H(2)*H(1)  H is the self inverse matrix\n",
        "    return (Q, R)\n",
        "\n",
        "np.set_printoptions(precision=4, suppress=True)\n",
        "A = np.array([[6, 5, 0],[5, -1, 4],[5, 1, -14],[0, 4, 3]], dtype = float)\n",
        "\n",
        "(Q, R) = householder_reflection(A)\n",
        "print(Q)\n",
        "print(R)\n",
        "print(np.dot(Q, R))"
      ],
      "execution_count": null,
      "outputs": []
    },
    {
      "cell_type": "markdown",
      "metadata": {
        "id": "yi5YUDE6ZH4a"
      },
      "source": [
        "Concept explanation"
      ]
    },
    {
      "cell_type": "markdown",
      "metadata": {
        "id": "p08c8D06Zdkq"
      },
      "source": [
        "A linear subspace of V is a subset U⊆V that is closed under vector addition and scalar multiplication. That is, for all u1,u2∈U and α∈R, it holds that u1+u2∈U and αu1∈U."
      ]
    },
    {
      "cell_type": "code",
      "metadata": {
        "colab": {
          "base_uri": "https://localhost:8080/"
        },
        "id": "r_H8JjykaC5T",
        "outputId": "cdb4f34a-7167-49e5-fef7-907c1c19d0da"
      },
      "source": [
        "# creating a 1-D list (Horizontal)\n",
        "list1 = [5, 6, 9]\n",
        " \n",
        "# creating a 1-D list (Horizontal)\n",
        "list2 = [1, 2, 3]\n",
        "\n",
        "# creating first vector\n",
        "vector1 = np.array(list1)\n",
        " \n",
        "# printing vector1\n",
        "print(\"First Vector   : \" + str(vector1))\n",
        " \n",
        "# creating second vector\n",
        "vector2 = np.array(list2)\n",
        " \n",
        "# printing vector2\n",
        "print(\"Second Vector  : \" + str(vector2))\n",
        "\n",
        "addition = vector1 + vector2\n",
        " \n",
        "# printing addition vector\n",
        "print(\"Vector Addition: \" + str(addition))\n",
        "\n",
        "scalarmult = 2 * vector1\n",
        "\n",
        "# printing scalar multiplication vector\n",
        "print(\"Vector Addition: \" + str(scalarmult))\n",
        "\n",
        "# as long as vector1 and vector2 belongs to U, \n",
        "# addition vector and scalarmult vector both belongs to U"
      ],
      "execution_count": null,
      "outputs": [
        {
          "output_type": "stream",
          "text": [
            "First Vector   : [5 6 9]\n",
            "Second Vector  : [1 2 3]\n",
            "Vector Addition: [ 6  8 12]\n",
            "Vector Addition: [10 12 18]\n"
          ],
          "name": "stdout"
        }
      ]
    }
  ]
}